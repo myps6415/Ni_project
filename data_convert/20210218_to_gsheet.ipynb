{
 "cells": [
  {
   "cell_type": "code",
   "execution_count": 1,
   "id": "steady-calcium",
   "metadata": {},
   "outputs": [],
   "source": [
    "#Import libraries \n",
    "import pandas as pd\n",
    "import warnings\n",
    "import os\n",
    "warnings.filterwarnings(\"ignore\")\n",
    "\n",
    "import pygsheets\n",
    "gc = pygsheets.authorize(service_file = 'johntung-project-fb5067782d81.json')"
   ]
  },
  {
   "cell_type": "code",
   "execution_count": 2,
   "id": "returning-reader",
   "metadata": {},
   "outputs": [
    {
     "data": {
      "text/plain": [
       "['BB02_游戏平台_共性数据.csv',\n",
       " 'BB_20210201_20210216_财务渠道_概况.csv',\n",
       " '.DS_Store',\n",
       " 'BB02_游戏平台_每日概况.csv',\n",
       " 'BB02_游戏平台_留存数据.csv',\n",
       " 'BB_20210201_20210216_财务渠道_名单.csv',\n",
       " 'BB_20210201_20210216_财务渠道_代理.csv']"
      ]
     },
     "execution_count": 2,
     "metadata": {},
     "output_type": "execute_result"
    }
   ],
   "source": [
    "os.listdir('/Users/john.tung/Downloads/Ni/倪提供可直接讀')"
   ]
  },
  {
   "cell_type": "code",
   "execution_count": 3,
   "id": "paperback-logging",
   "metadata": {},
   "outputs": [
    {
     "name": "stdout",
     "output_type": "stream",
     "text": [
      "BB02_游戏平台_共性数据.csv\n",
      "BB_20210201_20210216_财务渠道_概况.csv\n",
      "BB02_游戏平台_每日概况.csv\n",
      "BB02_游戏平台_留存数据.csv\n",
      "BB_20210201_20210216_财务渠道_名单.csv\n",
      "<HttpError 400 when requesting https://sheets.googleapis.com/v4/spreadsheets/1cokoDkII555g0-ceIDBTzJdNMmG5FrQ88KEJ8hh8-e0/values/%E5%B7%A5%E4%BD%9C%E8%A1%A81%21A16666%3AJ22221?valueInputOption=USER_ENTERED&alt=json returned \"Range ('工作表1'!A16666:J22221) exceeds grid limits. Max rows: 16665, max columns: 9\". Details: \"Range ('工作表1'!A16666:J22221) exceeds grid limits. Max rows: 16665, max columns: 9\">\n",
      "BB_20210201_20210216_财务渠道_代理.csv\n"
     ]
    }
   ],
   "source": [
    "path = '/Users/john.tung/Downloads/Ni/倪提供可直接讀'\n",
    "\n",
    "for file in os.listdir(path):\n",
    "    if '.csv' in file:\n",
    "        df = pd.read_csv(path+'/'+file)\n",
    "        print(file)\n",
    "        if '游戏平台_共性数据' in file:\n",
    "            #open the google spreadsheet (where 'PY to Gsheet Test' is the name of my sheet)\n",
    "            sh = gc.open('共性數據')\n",
    "        elif '游戏平台_每日概况' in file:\n",
    "            sh = gc.open('每日概況')\n",
    "        elif '游戏平台_留存数据' in file:\n",
    "            sh = gc.open('留存數據')\n",
    "        elif '财务渠道_概况' in file:\n",
    "            sh = gc.open('財務渠道概況')\n",
    "        elif '财务渠道_名单' in file:\n",
    "            sh = gc.open('財務渠道名單')\n",
    "        elif '财务渠道_代理' in file:\n",
    "            sh = gc.open('財務渠道代理')\n",
    "        \n",
    "        #select the first sheet \n",
    "        wks = sh[0]\n",
    "\n",
    "        # 清空整張表\n",
    "        wks.clear()\n",
    "        \n",
    "        # 設定表寬\n",
    "        wks.cols=len(df.columns)\n",
    "\n",
    "        #update the first sheet with df, starting at cell B2.\n",
    "        try:\n",
    "            wks.set_dataframe(df,(1,1))\n",
    "        except Exception as e:\n",
    "            print(e)\n",
    "            pass"
   ]
  },
  {
   "cell_type": "code",
   "execution_count": null,
   "id": "crude-hunger",
   "metadata": {},
   "outputs": [],
   "source": []
  }
 ],
 "metadata": {
  "kernelspec": {
   "display_name": "google_env",
   "language": "python",
   "name": "google_env"
  },
  "language_info": {
   "codemirror_mode": {
    "name": "ipython",
    "version": 3
   },
   "file_extension": ".py",
   "mimetype": "text/x-python",
   "name": "python",
   "nbconvert_exporter": "python",
   "pygments_lexer": "ipython3",
   "version": "3.8.5"
  }
 },
 "nbformat": 4,
 "nbformat_minor": 5
}
