{
 "cells": [
  {
   "cell_type": "code",
   "execution_count": 1,
   "metadata": {},
   "outputs": [],
   "source": [
    "#Import libraries \n",
    "import pandas as pd\n",
    "import warnings\n",
    "warnings.filterwarnings(\"ignore\")\n",
    "\n",
    "import pygsheets\n",
    "gc = pygsheets.authorize(service_file = 'johntung-project-fb5067782d81.json')"
   ]
  },
  {
   "cell_type": "code",
   "execution_count": 2,
   "metadata": {},
   "outputs": [
    {
     "name": "stdout",
     "output_type": "stream",
     "text": [
      "7978\n"
     ]
    },
    {
     "data": {
      "text/html": [
       "<div>\n",
       "<style scoped>\n",
       "    .dataframe tbody tr th:only-of-type {\n",
       "        vertical-align: middle;\n",
       "    }\n",
       "\n",
       "    .dataframe tbody tr th {\n",
       "        vertical-align: top;\n",
       "    }\n",
       "\n",
       "    .dataframe thead th {\n",
       "        text-align: right;\n",
       "    }\n",
       "</style>\n",
       "<table border=\"1\" class=\"dataframe\">\n",
       "  <thead>\n",
       "    <tr style=\"text-align: right;\">\n",
       "      <th></th>\n",
       "      <th>日期</th>\n",
       "      <th>最初活跃</th>\n",
       "      <th>游戏平台</th>\n",
       "      <th>人数</th>\n",
       "      <th>留存比例</th>\n",
       "      <th>第N天</th>\n",
       "    </tr>\n",
       "  </thead>\n",
       "  <tbody>\n",
       "    <tr>\n",
       "      <th>0</th>\n",
       "      <td>2021-01-01</td>\n",
       "      <td>2021-01-01</td>\n",
       "      <td>AG捕鱼</td>\n",
       "      <td>214</td>\n",
       "      <td>1.0</td>\n",
       "      <td>0</td>\n",
       "    </tr>\n",
       "    <tr>\n",
       "      <th>1</th>\n",
       "      <td>2021-01-01</td>\n",
       "      <td>2021-01-01</td>\n",
       "      <td>AG电子</td>\n",
       "      <td>297</td>\n",
       "      <td>1.0</td>\n",
       "      <td>0</td>\n",
       "    </tr>\n",
       "    <tr>\n",
       "      <th>2</th>\n",
       "      <td>2021-01-01</td>\n",
       "      <td>2021-01-01</td>\n",
       "      <td>AG真人</td>\n",
       "      <td>1066</td>\n",
       "      <td>1.0</td>\n",
       "      <td>0</td>\n",
       "    </tr>\n",
       "    <tr>\n",
       "      <th>3</th>\n",
       "      <td>2021-01-01</td>\n",
       "      <td>2021-01-01</td>\n",
       "      <td>BB彩票</td>\n",
       "      <td>628</td>\n",
       "      <td>1.0</td>\n",
       "      <td>0</td>\n",
       "    </tr>\n",
       "    <tr>\n",
       "      <th>4</th>\n",
       "      <td>2021-01-01</td>\n",
       "      <td>2021-01-01</td>\n",
       "      <td>BB棋牌</td>\n",
       "      <td>1141</td>\n",
       "      <td>1.0</td>\n",
       "      <td>0</td>\n",
       "    </tr>\n",
       "  </tbody>\n",
       "</table>\n",
       "</div>"
      ],
      "text/plain": [
       "           日期        最初活跃  游戏平台    人数  留存比例  第N天\n",
       "0  2021-01-01  2021-01-01  AG捕鱼   214   1.0    0\n",
       "1  2021-01-01  2021-01-01  AG电子   297   1.0    0\n",
       "2  2021-01-01  2021-01-01  AG真人  1066   1.0    0\n",
       "3  2021-01-01  2021-01-01  BB彩票   628   1.0    0\n",
       "4  2021-01-01  2021-01-01  BB棋牌  1141   1.0    0"
      ]
     },
     "execution_count": 2,
     "metadata": {},
     "output_type": "execute_result"
    }
   ],
   "source": [
    "df = pd.read_csv('/Users/john.tung/Downloads/Ni/倪提供可直接讀/BB02_游戏平台_留存数据.csv')\n",
    "print(len(df))\n",
    "df.head()"
   ]
  },
  {
   "cell_type": "code",
   "execution_count": 8,
   "metadata": {},
   "outputs": [],
   "source": [
    "#open the google spreadsheet (where 'PY to Gsheet Test' is the name of my sheet)\n",
    "sh = gc.open('sheet_20210218')\n",
    "\n",
    "#select the first sheet \n",
    "wks = sh[0]\n",
    "\n",
    "# 清空整張表\n",
    "wks.clear()\n",
    "\n",
    "#update the first sheet with df, starting at cell B2.\n",
    "wks.set_dataframe(df,(1,1))"
   ]
  },
  {
   "cell_type": "code",
   "execution_count": null,
   "metadata": {},
   "outputs": [],
   "source": []
  }
 ],
 "metadata": {
  "kernelspec": {
   "display_name": "google_env",
   "language": "python",
   "name": "google_env"
  },
  "language_info": {
   "codemirror_mode": {
    "name": "ipython",
    "version": 3
   },
   "file_extension": ".py",
   "mimetype": "text/x-python",
   "name": "python",
   "nbconvert_exporter": "python",
   "pygments_lexer": "ipython3",
   "version": "3.8.5"
  }
 },
 "nbformat": 4,
 "nbformat_minor": 4
}
