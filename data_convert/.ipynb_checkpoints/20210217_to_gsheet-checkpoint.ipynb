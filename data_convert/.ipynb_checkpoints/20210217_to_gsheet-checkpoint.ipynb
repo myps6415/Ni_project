{
 "cells": [
  {
   "cell_type": "code",
   "execution_count": 1,
   "metadata": {},
   "outputs": [],
   "source": [
    "#Import libraries \n",
    "import pandas as pd\n",
    "import warnings\n",
    "warnings.filterwarnings(\"ignore\")\n",
    "\n",
    "import pygsheets\n",
    "gc = pygsheets.authorize(service_file = 'johntung-project-fb5067782d81.json')"
   ]
  },
  {
   "cell_type": "code",
   "execution_count": 2,
   "metadata": {},
   "outputs": [
    {
     "name": "stdout",
     "output_type": "stream",
     "text": [
      "118\n"
     ]
    },
    {
     "data": {
      "text/html": [
       "<div>\n",
       "<style scoped>\n",
       "    .dataframe tbody tr th:only-of-type {\n",
       "        vertical-align: middle;\n",
       "    }\n",
       "\n",
       "    .dataframe tbody tr th {\n",
       "        vertical-align: top;\n",
       "    }\n",
       "\n",
       "    .dataframe thead th {\n",
       "        text-align: right;\n",
       "    }\n",
       "</style>\n",
       "<table border=\"1\" class=\"dataframe\">\n",
       "  <thead>\n",
       "    <tr style=\"text-align: right;\">\n",
       "      <th></th>\n",
       "      <th>日期</th>\n",
       "      <th>状态</th>\n",
       "      <th>细分类型</th>\n",
       "      <th>使用人数</th>\n",
       "      <th>次数</th>\n",
       "      <th>金额</th>\n",
       "      <th>反应时间</th>\n",
       "      <th>总次数</th>\n",
       "      <th>成功率</th>\n",
       "    </tr>\n",
       "  </thead>\n",
       "  <tbody>\n",
       "    <tr>\n",
       "      <th>0</th>\n",
       "      <td>2021-02-06</td>\n",
       "      <td>成功</td>\n",
       "      <td>银行卡转账</td>\n",
       "      <td>11681</td>\n",
       "      <td>24920</td>\n",
       "      <td>53391007.99</td>\n",
       "      <td>205.654093</td>\n",
       "      <td>57747</td>\n",
       "      <td>0.431538</td>\n",
       "    </tr>\n",
       "    <tr>\n",
       "      <th>1</th>\n",
       "      <td>2021-02-07</td>\n",
       "      <td>成功</td>\n",
       "      <td>银行卡转账</td>\n",
       "      <td>11435</td>\n",
       "      <td>23893</td>\n",
       "      <td>49180740.00</td>\n",
       "      <td>214.802662</td>\n",
       "      <td>49589</td>\n",
       "      <td>0.481821</td>\n",
       "    </tr>\n",
       "    <tr>\n",
       "      <th>2</th>\n",
       "      <td>2021-02-05</td>\n",
       "      <td>成功</td>\n",
       "      <td>银行卡转账</td>\n",
       "      <td>11007</td>\n",
       "      <td>23158</td>\n",
       "      <td>49039951.00</td>\n",
       "      <td>220.690042</td>\n",
       "      <td>42735</td>\n",
       "      <td>0.541898</td>\n",
       "    </tr>\n",
       "    <tr>\n",
       "      <th>3</th>\n",
       "      <td>2021-02-03</td>\n",
       "      <td>成功</td>\n",
       "      <td>银行卡转账</td>\n",
       "      <td>10593</td>\n",
       "      <td>22124</td>\n",
       "      <td>47967054.00</td>\n",
       "      <td>221.227626</td>\n",
       "      <td>35773</td>\n",
       "      <td>0.618455</td>\n",
       "    </tr>\n",
       "    <tr>\n",
       "      <th>4</th>\n",
       "      <td>2021-02-09</td>\n",
       "      <td>成功</td>\n",
       "      <td>银行卡转账</td>\n",
       "      <td>10351</td>\n",
       "      <td>21167</td>\n",
       "      <td>45053531.00</td>\n",
       "      <td>341.665801</td>\n",
       "      <td>45913</td>\n",
       "      <td>0.461024</td>\n",
       "    </tr>\n",
       "  </tbody>\n",
       "</table>\n",
       "</div>"
      ],
      "text/plain": [
       "           日期  状态   细分类型   使用人数     次数           金额        反应时间    总次数  \\\n",
       "0  2021-02-06  成功  银行卡转账  11681  24920  53391007.99  205.654093  57747   \n",
       "1  2021-02-07  成功  银行卡转账  11435  23893  49180740.00  214.802662  49589   \n",
       "2  2021-02-05  成功  银行卡转账  11007  23158  49039951.00  220.690042  42735   \n",
       "3  2021-02-03  成功  银行卡转账  10593  22124  47967054.00  221.227626  35773   \n",
       "4  2021-02-09  成功  银行卡转账  10351  21167  45053531.00  341.665801  45913   \n",
       "\n",
       "        成功率  \n",
       "0  0.431538  \n",
       "1  0.481821  \n",
       "2  0.541898  \n",
       "3  0.618455  \n",
       "4  0.461024  "
      ]
     },
     "execution_count": 2,
     "metadata": {},
     "output_type": "execute_result"
    }
   ],
   "source": [
    "df = pd.read_csv('/Users/john.tung/Downloads/Ni/倪提供可直接讀/BB_20210201_20210209_财务渠道_概况.csv')\n",
    "print(len(df))\n",
    "df.head()"
   ]
  },
  {
   "cell_type": "code",
   "execution_count": 13,
   "metadata": {},
   "outputs": [],
   "source": [
    "#open the google spreadsheet (where 'PY to Gsheet Test' is the name of my sheet)\n",
    "sh = gc.open('sheet_20210218')\n",
    "\n",
    "#select the first sheet \n",
    "wks = sh[0]\n",
    "\n",
    "#update the first sheet with df, starting at cell B2.\n",
    "wks.set_dataframe(df,(1,1))"
   ]
  },
  {
   "cell_type": "code",
   "execution_count": null,
   "metadata": {},
   "outputs": [],
   "source": []
  }
 ],
 "metadata": {
  "kernelspec": {
   "display_name": "google_env",
   "language": "python",
   "name": "google_env"
  },
  "language_info": {
   "codemirror_mode": {
    "name": "ipython",
    "version": 3
   },
   "file_extension": ".py",
   "mimetype": "text/x-python",
   "name": "python",
   "nbconvert_exporter": "python",
   "pygments_lexer": "ipython3",
   "version": "3.8.5"
  }
 },
 "nbformat": 4,
 "nbformat_minor": 4
}
