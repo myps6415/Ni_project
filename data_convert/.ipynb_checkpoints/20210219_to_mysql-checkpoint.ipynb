{
 "cells": [
  {
   "cell_type": "code",
   "execution_count": 1,
   "id": "thousand-release",
   "metadata": {},
   "outputs": [],
   "source": [
    "#Import libraries\n",
    "import os\n",
    "import pandas as pd\n",
    "from sqlalchemy import create_engine\n",
    "import warnings\n",
    "warnings.filterwarnings(\"ignore\")"
   ]
  },
  {
   "cell_type": "code",
   "execution_count": 2,
   "id": "reported-wellington",
   "metadata": {},
   "outputs": [],
   "source": [
    "f = open('mysql.txt', 'r')\n",
    "engine = create_engine('mysql+pymysql://{}'.format(f.read()))"
   ]
  },
  {
   "cell_type": "code",
   "execution_count": 3,
   "id": "twenty-electricity",
   "metadata": {},
   "outputs": [
    {
     "name": "stdout",
     "output_type": "stream",
     "text": [
      "BB02_游戏平台_共性数据.csv\n",
      "BB_20210201_20210216_财务渠道_概况.csv\n",
      "BB02_游戏平台_每日概况.csv\n",
      "BB02_游戏平台_留存数据.csv\n",
      "BB_20210201_20210216_财务渠道_名单.csv\n",
      "BB_20210201_20210216_财务渠道_代理.csv\n"
     ]
    }
   ],
   "source": [
    "path = '/Users/john.tung/Downloads/Ni/倪提供可直接讀'\n",
    "\n",
    "for file in os.listdir(path):\n",
    "    if '.csv' in file:\n",
    "        df = pd.read_csv(path+'/'+file)\n",
    "        print(file)\n",
    "        if '游戏平台_共性数据' in file:\n",
    "            df.to_sql('GamePlatform_CommonalityData', engine, index= False, if_exists='replace')\n",
    "        elif '游戏平台_每日概况' in file:\n",
    "            df.to_sql('GamePlatform_DailyOverview', engine, index= False, if_exists='replace')\n",
    "        elif '游戏平台_留存数据' in file:\n",
    "            df.to_sql('GamePlatform_KeepData', engine, index= False, if_exists='replace')\n",
    "        elif '财务渠道_概况' in file:\n",
    "            df.to_sql('FinancialChannel_Overview', engine, index= False, if_exists='replace')\n",
    "        elif '财务渠道_名单' in file:\n",
    "            df.to_sql('FinancialChannel_List', engine, index= False, if_exists='replace')\n",
    "        elif '财务渠道_代理' in file:\n",
    "            df.to_sql('FinancialChannel_Proxy', engine, index= False, if_exists='replace')"
   ]
  },
  {
   "cell_type": "code",
   "execution_count": null,
   "id": "amazing-morocco",
   "metadata": {},
   "outputs": [],
   "source": []
  }
 ],
 "metadata": {
  "kernelspec": {
   "display_name": "DataAnalysisEnv",
   "language": "python",
   "name": "dataanalysisenv"
  },
  "language_info": {
   "codemirror_mode": {
    "name": "ipython",
    "version": 3
   },
   "file_extension": ".py",
   "mimetype": "text/x-python",
   "name": "python",
   "nbconvert_exporter": "python",
   "pygments_lexer": "ipython3",
   "version": "3.7.5"
  }
 },
 "nbformat": 4,
 "nbformat_minor": 5
}
